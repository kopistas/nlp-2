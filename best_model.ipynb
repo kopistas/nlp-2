{
 "cells": [
  {
   "cell_type": "code",
   "execution_count": 1,
   "metadata": {
    "execution": {
     "iopub.execute_input": "2024-10-10T19:30:27.593152Z",
     "iopub.status.busy": "2024-10-10T19:30:27.592916Z",
     "iopub.status.idle": "2024-10-10T19:30:29.488663Z",
     "shell.execute_reply": "2024-10-10T19:30:29.487764Z",
     "shell.execute_reply.started": "2024-10-10T19:30:27.593135Z"
    },
    "tags": []
   },
   "outputs": [],
   "source": [
    "import pandas as pd\n",
    "import numpy as np\n",
    "import matplotlib.pyplot as plt\n",
    "import seaborn as sns"
   ]
  },
  {
   "cell_type": "code",
   "execution_count": 2,
   "metadata": {
    "execution": {
     "iopub.execute_input": "2024-10-10T19:30:29.490352Z",
     "iopub.status.busy": "2024-10-10T19:30:29.489835Z",
     "iopub.status.idle": "2024-10-10T19:30:29.511697Z",
     "shell.execute_reply": "2024-10-10T19:30:29.511117Z",
     "shell.execute_reply.started": "2024-10-10T19:30:29.490324Z"
    },
    "tags": []
   },
   "outputs": [],
   "source": [
    "%load_ext autoreload\n",
    "%autoreload 2"
   ]
  },
  {
   "cell_type": "code",
   "execution_count": 3,
   "metadata": {
    "execution": {
     "iopub.execute_input": "2024-10-10T19:30:29.913552Z",
     "iopub.status.busy": "2024-10-10T19:30:29.913111Z",
     "iopub.status.idle": "2024-10-10T19:30:33.635838Z",
     "shell.execute_reply": "2024-10-10T19:30:33.635273Z",
     "shell.execute_reply.started": "2024-10-10T19:30:29.913533Z"
    },
    "tags": []
   },
   "outputs": [
    {
     "name": "stdout",
     "output_type": "stream",
     "text": [
      "Requirement already satisfied: torch in /usr/local/lib/python3.11/dist-packages (from -r requirements.txt (line 1)) (2.1.1+cu121)\n",
      "Requirement already satisfied: numpy in /usr/local/lib/python3.11/dist-packages (from -r requirements.txt (line 2)) (1.26.3)\n",
      "Requirement already satisfied: pandas in /usr/local/lib/python3.11/dist-packages (from -r requirements.txt (line 3)) (2.2.0)\n",
      "Requirement already satisfied: scikit-learn in /usr/local/lib/python3.11/dist-packages (from -r requirements.txt (line 4)) (1.3.0)\n",
      "Requirement already satisfied: nltk in /usr/local/lib/python3.11/dist-packages (from -r requirements.txt (line 5)) (3.8.1)\n",
      "Requirement already satisfied: tqdm in /usr/local/lib/python3.11/dist-packages (from -r requirements.txt (line 6)) (4.66.1)\n",
      "Collecting gensim (from -r requirements.txt (line 7))\n",
      "  Downloading gensim-4.3.3-cp311-cp311-manylinux_2_17_x86_64.manylinux2014_x86_64.whl.metadata (8.1 kB)\n",
      "Requirement already satisfied: filelock in /usr/local/lib/python3.11/dist-packages (from torch->-r requirements.txt (line 1)) (3.13.1)\n",
      "Requirement already satisfied: typing-extensions in /usr/local/lib/python3.11/dist-packages (from torch->-r requirements.txt (line 1)) (4.9.0)\n",
      "Requirement already satisfied: sympy in /usr/local/lib/python3.11/dist-packages (from torch->-r requirements.txt (line 1)) (1.12)\n",
      "Requirement already satisfied: networkx in /usr/local/lib/python3.11/dist-packages (from torch->-r requirements.txt (line 1)) (3.2.1)\n",
      "Requirement already satisfied: jinja2 in /usr/local/lib/python3.11/dist-packages (from torch->-r requirements.txt (line 1)) (3.1.3)\n",
      "Requirement already satisfied: fsspec in /usr/local/lib/python3.11/dist-packages (from torch->-r requirements.txt (line 1)) (2023.6.0)\n",
      "Requirement already satisfied: triton==2.1.0 in /usr/local/lib/python3.11/dist-packages (from torch->-r requirements.txt (line 1)) (2.1.0)\n",
      "Requirement already satisfied: python-dateutil>=2.8.2 in /usr/local/lib/python3.11/dist-packages (from pandas->-r requirements.txt (line 3)) (2.8.2)\n",
      "Requirement already satisfied: pytz>=2020.1 in /usr/lib/python3/dist-packages (from pandas->-r requirements.txt (line 3)) (2022.1)\n",
      "Requirement already satisfied: tzdata>=2022.7 in /usr/local/lib/python3.11/dist-packages (from pandas->-r requirements.txt (line 3)) (2023.4)\n",
      "Requirement already satisfied: scipy>=1.5.0 in /usr/local/lib/python3.11/dist-packages (from scikit-learn->-r requirements.txt (line 4)) (1.11.2)\n",
      "Requirement already satisfied: joblib>=1.1.1 in /usr/local/lib/python3.11/dist-packages (from scikit-learn->-r requirements.txt (line 4)) (1.3.2)\n",
      "Requirement already satisfied: threadpoolctl>=2.0.0 in /usr/local/lib/python3.11/dist-packages (from scikit-learn->-r requirements.txt (line 4)) (3.2.0)\n",
      "Requirement already satisfied: click in /usr/local/lib/python3.11/dist-packages (from nltk->-r requirements.txt (line 5)) (8.1.7)\n",
      "Requirement already satisfied: regex>=2021.8.3 in /usr/local/lib/python3.11/dist-packages (from nltk->-r requirements.txt (line 5)) (2023.12.25)\n",
      "Requirement already satisfied: smart-open>=1.8.1 in /usr/local/lib/python3.11/dist-packages (from gensim->-r requirements.txt (line 7)) (6.4.0)\n",
      "Requirement already satisfied: six>=1.5 in /usr/lib/python3/dist-packages (from python-dateutil>=2.8.2->pandas->-r requirements.txt (line 3)) (1.16.0)\n",
      "Requirement already satisfied: MarkupSafe>=2.0 in /usr/local/lib/python3.11/dist-packages (from jinja2->torch->-r requirements.txt (line 1)) (2.1.4)\n",
      "Requirement already satisfied: mpmath>=0.19 in /usr/local/lib/python3.11/dist-packages (from sympy->torch->-r requirements.txt (line 1)) (1.3.0)\n",
      "Downloading gensim-4.3.3-cp311-cp311-manylinux_2_17_x86_64.manylinux2014_x86_64.whl (26.7 MB)\n",
      "\u001b[2K   \u001b[90m━━━━━━━━━━━━━━━━━━━━━━━━━━━━━━━━━━━━━━━━\u001b[0m \u001b[32m26.7/26.7 MB\u001b[0m \u001b[31m62.9 MB/s\u001b[0m eta \u001b[36m0:00:00\u001b[0m:00:01\u001b[0m00:01\u001b[0m\n",
      "\u001b[?25hInstalling collected packages: gensim\n",
      "Successfully installed gensim-4.3.3\n",
      "\u001b[33mWARNING: Running pip as the 'root' user can result in broken permissions and conflicting behaviour with the system package manager. It is recommended to use a virtual environment instead: https://pip.pypa.io/warnings/venv\u001b[0m\u001b[33m\n",
      "\u001b[0m"
     ]
    }
   ],
   "source": [
    "!pip install -r requirements.txt"
   ]
  },
  {
   "cell_type": "code",
   "execution_count": 4,
   "metadata": {
    "execution": {
     "iopub.execute_input": "2024-10-10T19:30:33.637214Z",
     "iopub.status.busy": "2024-10-10T19:30:33.637018Z",
     "iopub.status.idle": "2024-10-10T19:31:18.688262Z",
     "shell.execute_reply": "2024-10-10T19:31:18.687800Z",
     "shell.execute_reply.started": "2024-10-10T19:30:33.637173Z"
    }
   },
   "outputs": [
    {
     "name": "stdout",
     "output_type": "stream",
     "text": [
      "Using GPU: NVIDIA RTX A6000\n",
      "Splitting data...\n",
      "Train size = 195814\n",
      "Validation size = 48954\n"
     ]
    }
   ],
   "source": [
    "import torch\n",
    "from utils import check_set_gpu\n",
    "from data_utils import load_and_preprocess_data, prepare_data_splits, load_pretrained_embeddings\n",
    "from models import CNNModel, BiLSTMModel, CNNLSTMModel, TransformerModel, PretrainedEmbeddingsModel, CNNRNNModel\n",
    "from pipeline import ModelPipeline\n",
    "import os\n",
    "\n",
    "number_of_epochs = 100\n",
    "    # Set device\n",
    "device = check_set_gpu()\n",
    "\n",
    "data, token_to_id, categorical_vectorizer, categorical_columns, UNK_IX, PAD_IX  = load_and_preprocess_data('./Train_rev1.csv')\n",
    "data_train, data_val = prepare_data_splits(data)\n"
   ]
  },
  {
   "cell_type": "code",
   "execution_count": 5,
   "metadata": {
    "execution": {
     "iopub.execute_input": "2024-10-10T19:31:18.689477Z",
     "iopub.status.busy": "2024-10-10T19:31:18.689291Z",
     "iopub.status.idle": "2024-10-10T19:32:38.960052Z",
     "shell.execute_reply": "2024-10-10T19:32:38.959353Z",
     "shell.execute_reply.started": "2024-10-10T19:31:18.689462Z"
    }
   },
   "outputs": [
    {
     "name": "stdout",
     "output_type": "stream",
     "text": [
      "[===-----------------------------------------------] 6.2% 23.4/376.1MB downloaded"
     ]
    },
    {
     "name": "stderr",
     "output_type": "stream",
     "text": [
      "IOPub message rate exceeded.\n",
      "The Jupyter server will temporarily stop sending output\n",
      "to the client in order to avoid crashing it.\n",
      "To change this limit, set the config variable\n",
      "`--ServerApp.iopub_msg_rate_limit`.\n",
      "\n",
      "Current values:\n",
      "ServerApp.iopub_msg_rate_limit=1000.0 (msgs/sec)\n",
      "ServerApp.rate_limit_window=3.0 (secs)\n",
      "\n"
     ]
    },
    {
     "name": "stdout",
     "output_type": "stream",
     "text": [
      "[=======-------------------------------------------] 15.3% 57.6/376.1MB downloaded"
     ]
    },
    {
     "name": "stderr",
     "output_type": "stream",
     "text": [
      "IOPub message rate exceeded.\n",
      "The Jupyter server will temporarily stop sending output\n",
      "to the client in order to avoid crashing it.\n",
      "To change this limit, set the config variable\n",
      "`--ServerApp.iopub_msg_rate_limit`.\n",
      "\n",
      "Current values:\n",
      "ServerApp.iopub_msg_rate_limit=1000.0 (msgs/sec)\n",
      "ServerApp.rate_limit_window=3.0 (secs)\n",
      "\n"
     ]
    },
    {
     "name": "stdout",
     "output_type": "stream",
     "text": [
      "[==============------------------------------------] 28.3% 106.2/376.1MB downloaded"
     ]
    },
    {
     "name": "stderr",
     "output_type": "stream",
     "text": [
      "IOPub message rate exceeded.\n",
      "The Jupyter server will temporarily stop sending output\n",
      "to the client in order to avoid crashing it.\n",
      "To change this limit, set the config variable\n",
      "`--ServerApp.iopub_msg_rate_limit`.\n",
      "\n",
      "Current values:\n",
      "ServerApp.iopub_msg_rate_limit=1000.0 (msgs/sec)\n",
      "ServerApp.rate_limit_window=3.0 (secs)\n",
      "\n"
     ]
    },
    {
     "name": "stdout",
     "output_type": "stream",
     "text": [
      "[===================-------------------------------] 39.6% 148.8/376.1MB downloaded"
     ]
    },
    {
     "name": "stderr",
     "output_type": "stream",
     "text": [
      "IOPub message rate exceeded.\n",
      "The Jupyter server will temporarily stop sending output\n",
      "to the client in order to avoid crashing it.\n",
      "To change this limit, set the config variable\n",
      "`--ServerApp.iopub_msg_rate_limit`.\n",
      "\n",
      "Current values:\n",
      "ServerApp.iopub_msg_rate_limit=1000.0 (msgs/sec)\n",
      "ServerApp.rate_limit_window=3.0 (secs)\n",
      "\n"
     ]
    },
    {
     "name": "stdout",
     "output_type": "stream",
     "text": [
      "[========================--------------------------] 48.6% 182.9/376.1MB downloaded"
     ]
    },
    {
     "name": "stderr",
     "output_type": "stream",
     "text": [
      "IOPub message rate exceeded.\n",
      "The Jupyter server will temporarily stop sending output\n",
      "to the client in order to avoid crashing it.\n",
      "To change this limit, set the config variable\n",
      "`--ServerApp.iopub_msg_rate_limit`.\n",
      "\n",
      "Current values:\n",
      "ServerApp.iopub_msg_rate_limit=1000.0 (msgs/sec)\n",
      "ServerApp.rate_limit_window=3.0 (secs)\n",
      "\n"
     ]
    },
    {
     "name": "stdout",
     "output_type": "stream",
     "text": [
      "[============================----------------------] 57.3% 215.7/376.1MB downloaded"
     ]
    },
    {
     "name": "stderr",
     "output_type": "stream",
     "text": [
      "IOPub message rate exceeded.\n",
      "The Jupyter server will temporarily stop sending output\n",
      "to the client in order to avoid crashing it.\n",
      "To change this limit, set the config variable\n",
      "`--ServerApp.iopub_msg_rate_limit`.\n",
      "\n",
      "Current values:\n",
      "ServerApp.iopub_msg_rate_limit=1000.0 (msgs/sec)\n",
      "ServerApp.rate_limit_window=3.0 (secs)\n",
      "\n"
     ]
    },
    {
     "name": "stdout",
     "output_type": "stream",
     "text": [
      "[=================================-----------------] 66.6% 250.4/376.1MB downloaded"
     ]
    },
    {
     "name": "stderr",
     "output_type": "stream",
     "text": [
      "IOPub message rate exceeded.\n",
      "The Jupyter server will temporarily stop sending output\n",
      "to the client in order to avoid crashing it.\n",
      "To change this limit, set the config variable\n",
      "`--ServerApp.iopub_msg_rate_limit`.\n",
      "\n",
      "Current values:\n",
      "ServerApp.iopub_msg_rate_limit=1000.0 (msgs/sec)\n",
      "ServerApp.rate_limit_window=3.0 (secs)\n",
      "\n"
     ]
    },
    {
     "name": "stdout",
     "output_type": "stream",
     "text": [
      "[=====================================-------------] 75.8% 285.0/376.1MB downloaded"
     ]
    },
    {
     "name": "stderr",
     "output_type": "stream",
     "text": [
      "IOPub message rate exceeded.\n",
      "The Jupyter server will temporarily stop sending output\n",
      "to the client in order to avoid crashing it.\n",
      "To change this limit, set the config variable\n",
      "`--ServerApp.iopub_msg_rate_limit`.\n",
      "\n",
      "Current values:\n",
      "ServerApp.iopub_msg_rate_limit=1000.0 (msgs/sec)\n",
      "ServerApp.rate_limit_window=3.0 (secs)\n",
      "\n"
     ]
    },
    {
     "name": "stdout",
     "output_type": "stream",
     "text": [
      "[===============================================---] 94.3% 354.8/376.1MB downloaded"
     ]
    },
    {
     "name": "stderr",
     "output_type": "stream",
     "text": [
      "IOPub message rate exceeded.\n",
      "The Jupyter server will temporarily stop sending output\n",
      "to the client in order to avoid crashing it.\n",
      "To change this limit, set the config variable\n",
      "`--ServerApp.iopub_msg_rate_limit`.\n",
      "\n",
      "Current values:\n",
      "ServerApp.iopub_msg_rate_limit=1000.0 (msgs/sec)\n",
      "ServerApp.rate_limit_window=3.0 (secs)\n",
      "\n"
     ]
    }
   ],
   "source": [
    "embedding_matrix = load_pretrained_embeddings(token_to_id, embedding_name='glove-wiki-gigaword-300')\n"
   ]
  },
  {
   "cell_type": "code",
   "execution_count": 8,
   "metadata": {
    "execution": {
     "iopub.execute_input": "2024-10-10T20:17:55.799188Z",
     "iopub.status.busy": "2024-10-10T20:17:55.798725Z",
     "iopub.status.idle": "2024-10-10T23:21:17.836326Z",
     "shell.execute_reply": "2024-10-10T23:21:17.835753Z",
     "shell.execute_reply.started": "2024-10-10T20:17:55.799167Z"
    },
    "tags": []
   },
   "outputs": [
    {
     "name": "stderr",
     "output_type": "stream",
     "text": [
      "2024-10-10 20:17:55,829 - Starting training for model: CNNBiLSTMEmbeddingModel1e-3 with hyperparams: {'embedding_matrix': tensor([[ 0.6889,  0.2095, -0.7360,  ..., -0.3863,  0.1655, -0.2924],\n",
      "        [ 0.5227,  0.2222,  0.9701,  ...,  1.4729,  0.2297, -0.2529],\n",
      "        [ 0.0385, -0.0398,  0.0827,  ..., -0.3343,  0.0118,  0.0597],\n",
      "        ...,\n",
      "        [ 0.4483,  1.2691, -0.1862,  ...,  0.1636,  0.2891, -0.6319],\n",
      "        [-0.0924, -0.2186,  0.4416,  ...,  0.0976,  0.6912, -0.1121],\n",
      "        [-0.2589,  0.3339,  0.0924,  ..., -1.0857, -1.0157, -0.2296]]), 'n_cat_features': 3768, 'padding_idx': 0, 'freeze': False, 'lstm_hidden_size': 128, 'num_lstm_layers': 1, 'dropout': 0.3, 'batch_size': 128, 'epochs': 100}\n",
      "2024-10-10 20:17:55,870 - No checkpoint found for model CNNBiLSTMEmbeddingModel1e-3 with hyperparams {'embedding_matrix': tensor([[ 0.6889,  0.2095, -0.7360,  ..., -0.3863,  0.1655, -0.2924],\n",
      "        [ 0.5227,  0.2222,  0.9701,  ...,  1.4729,  0.2297, -0.2529],\n",
      "        [ 0.0385, -0.0398,  0.0827,  ..., -0.3343,  0.0118,  0.0597],\n",
      "        ...,\n",
      "        [ 0.4483,  1.2691, -0.1862,  ...,  0.1636,  0.2891, -0.6319],\n",
      "        [-0.0924, -0.2186,  0.4416,  ...,  0.0976,  0.6912, -0.1121],\n",
      "        [-0.2589,  0.3339,  0.0924,  ..., -1.0857, -1.0157, -0.2296]]), 'n_cat_features': 3768, 'padding_idx': 0, 'freeze': False, 'lstm_hidden_size': 128, 'num_lstm_layers': 1, 'dropout': 0.3, 'batch_size': 128, 'epochs': 100}. Starting fresh.\n"
     ]
    },
    {
     "data": {
      "application/vnd.jupyter.widget-view+json": {
       "model_id": "999b1175609345cb94cd708f81bacd94",
       "version_major": 2,
       "version_minor": 0
      },
      "text/plain": [
       "Training CNNBiLSTMEmbeddingModel1e-3:   0%|          | 0/100 [00:00<?, ?it/s]"
      ]
     },
     "metadata": {},
     "output_type": "display_data"
    },
    {
     "name": "stderr",
     "output_type": "stream",
     "text": [
      "2024-10-10 20:19:56,177 - Epoch 1 - Validation MAE: 0.22262, Total Loss: 123561.43924\n",
      "2024-10-10 20:21:57,156 - Epoch 2 - Validation MAE: 0.18920, Total Loss: 30490.72486\n",
      "2024-10-10 20:23:58,081 - Epoch 3 - Validation MAE: 0.19244, Total Loss: 27760.10041\n",
      "2024-10-10 20:25:58,985 - Epoch 4 - Validation MAE: 0.18098, Total Loss: 25797.01498\n",
      "2024-10-10 20:27:59,187 - Epoch 5 - Validation MAE: 0.17743, Total Loss: 24415.07373\n",
      "2024-10-10 20:29:59,263 - Epoch 6 - Validation MAE: 0.20234, Total Loss: 22909.84503\n",
      "2024-10-10 20:31:58,850 - Epoch 7 - Validation MAE: 0.17686, Total Loss: 21503.87433\n",
      "2024-10-10 20:33:58,563 - Epoch 8 - Validation MAE: 0.19580, Total Loss: 20610.81554\n",
      "2024-10-10 20:35:57,717 - Epoch 9 - Validation MAE: 0.17108, Total Loss: 19598.50288\n",
      "2024-10-10 20:37:57,632 - Epoch 10 - Validation MAE: 0.16818, Total Loss: 18773.01518\n",
      "2024-10-10 20:39:57,169 - Epoch 11 - Validation MAE: 0.16934, Total Loss: 17722.30276\n",
      "2024-10-10 20:41:57,255 - Epoch 12 - Validation MAE: 0.17531, Total Loss: 17035.91038\n",
      "2024-10-10 20:43:56,279 - Epoch 13 - Validation MAE: 0.18361, Total Loss: 16267.46893\n",
      "2024-10-10 20:45:56,394 - Epoch 14 - Validation MAE: 0.17936, Total Loss: 15696.21786\n",
      "2024-10-10 20:47:56,254 - Epoch 15 - Validation MAE: 0.19547, Total Loss: 15047.84948\n",
      "2024-10-10 20:49:55,597 - Epoch 16 - Validation MAE: 0.17099, Total Loss: 14455.93918\n",
      "2024-10-10 20:51:55,217 - Epoch 17 - Validation MAE: 0.16259, Total Loss: 13971.94194\n",
      "2024-10-10 20:53:55,332 - Epoch 18 - Validation MAE: 0.18486, Total Loss: 13335.01360\n",
      "2024-10-10 20:55:54,726 - Epoch 19 - Validation MAE: 0.18387, Total Loss: 12765.03271\n",
      "2024-10-10 20:57:55,186 - Epoch 20 - Validation MAE: 0.17093, Total Loss: 12371.24815\n",
      "2024-10-10 20:59:55,036 - Epoch 21 - Validation MAE: 0.16213, Total Loss: 11880.95260\n",
      "2024-10-10 21:01:54,802 - Epoch 22 - Validation MAE: 0.16072, Total Loss: 11440.19690\n",
      "2024-10-10 21:03:54,678 - Epoch 23 - Validation MAE: 0.15903, Total Loss: 10979.98137\n",
      "2024-10-10 21:05:55,313 - Epoch 24 - Validation MAE: 0.16599, Total Loss: 10503.24487\n",
      "2024-10-10 21:07:55,031 - Epoch 25 - Validation MAE: 0.17637, Total Loss: 10278.03027\n",
      "2024-10-10 21:09:54,318 - Epoch 26 - Validation MAE: 0.15645, Total Loss: 9817.49458\n",
      "2024-10-10 21:11:53,718 - Epoch 27 - Validation MAE: 0.15698, Total Loss: 9381.86971\n",
      "2024-10-10 21:13:53,199 - Epoch 28 - Validation MAE: 0.15547, Total Loss: 9062.02734\n",
      "2024-10-10 21:15:52,733 - Epoch 29 - Validation MAE: 0.15850, Total Loss: 8756.77724\n",
      "2024-10-10 21:17:53,066 - Epoch 30 - Validation MAE: 0.17132, Total Loss: 8313.52050\n",
      "2024-10-10 21:19:52,621 - Epoch 31 - Validation MAE: 0.16190, Total Loss: 8061.41042\n",
      "2024-10-10 21:21:52,613 - Epoch 32 - Validation MAE: 0.15804, Total Loss: 7657.22125\n",
      "2024-10-10 21:23:51,529 - Epoch 33 - Validation MAE: 0.16100, Total Loss: 7354.19245\n",
      "2024-10-10 21:25:51,490 - Epoch 34 - Validation MAE: 0.15332, Total Loss: 7045.20388\n",
      "2024-10-10 21:27:50,338 - Epoch 35 - Validation MAE: 0.15420, Total Loss: 6758.16162\n",
      "2024-10-10 21:29:49,740 - Epoch 36 - Validation MAE: 0.15805, Total Loss: 6502.60726\n",
      "2024-10-10 21:31:48,973 - Epoch 37 - Validation MAE: 0.16081, Total Loss: 6278.66708\n",
      "2024-10-10 21:33:49,112 - Epoch 38 - Validation MAE: 0.15341, Total Loss: 6012.56411\n",
      "2024-10-10 21:35:48,106 - Epoch 39 - Validation MAE: 0.15232, Total Loss: 5754.55461\n",
      "2024-10-10 21:37:47,495 - Epoch 40 - Validation MAE: 0.15168, Total Loss: 5476.42973\n",
      "2024-10-10 21:39:46,348 - Epoch 41 - Validation MAE: 0.15652, Total Loss: 5262.29606\n",
      "2024-10-10 21:41:46,006 - Epoch 42 - Validation MAE: 0.16745, Total Loss: 5054.41237\n",
      "2024-10-10 21:43:45,271 - Epoch 43 - Validation MAE: 0.15082, Total Loss: 4830.58320\n",
      "2024-10-10 21:45:44,216 - Epoch 44 - Validation MAE: 0.15667, Total Loss: 4563.86417\n",
      "2024-10-10 21:47:43,241 - Epoch 45 - Validation MAE: 0.16144, Total Loss: 4464.30758\n",
      "2024-10-10 21:49:41,955 - Epoch 46 - Validation MAE: 0.14978, Total Loss: 4192.30166\n",
      "2024-10-10 21:51:41,279 - Epoch 47 - Validation MAE: 0.15700, Total Loss: 4058.76403\n",
      "2024-10-10 21:53:40,244 - Epoch 48 - Validation MAE: 0.15295, Total Loss: 3889.16805\n",
      "2024-10-10 21:55:39,552 - Epoch 49 - Validation MAE: 0.14873, Total Loss: 3665.59649\n",
      "2024-10-10 21:57:38,584 - Epoch 50 - Validation MAE: 0.15845, Total Loss: 3574.57879\n",
      "2024-10-10 21:59:37,778 - Epoch 51 - Validation MAE: 0.15900, Total Loss: 3389.00078\n",
      "2024-10-10 22:01:37,011 - Epoch 52 - Validation MAE: 0.14913, Total Loss: 3224.23205\n",
      "2024-10-10 22:03:36,131 - Epoch 53 - Validation MAE: 0.15075, Total Loss: 3072.65687\n",
      "2024-10-10 22:05:35,817 - Epoch 54 - Validation MAE: 0.14833, Total Loss: 2971.14505\n",
      "2024-10-10 22:07:35,225 - Epoch 55 - Validation MAE: 0.15079, Total Loss: 2809.98735\n",
      "2024-10-10 22:09:34,212 - Epoch 56 - Validation MAE: 0.15331, Total Loss: 2676.44737\n",
      "2024-10-10 22:11:33,632 - Epoch 57 - Validation MAE: 0.14833, Total Loss: 2577.78022\n",
      "2024-10-10 22:13:33,115 - Epoch 58 - Validation MAE: 0.14907, Total Loss: 2445.83451\n",
      "2024-10-10 22:15:31,842 - Epoch 59 - Validation MAE: 0.14931, Total Loss: 2317.14529\n",
      "2024-10-10 22:17:30,992 - Epoch 60 - Validation MAE: 0.14815, Total Loss: 2224.73958\n",
      "2024-10-10 22:19:30,020 - Epoch 61 - Validation MAE: 0.15827, Total Loss: 2114.71025\n",
      "2024-10-10 22:21:29,585 - Epoch 62 - Validation MAE: 0.14750, Total Loss: 2015.10146\n",
      "2024-10-10 22:23:29,265 - Epoch 63 - Validation MAE: 0.14763, Total Loss: 1923.45571\n",
      "2024-10-10 22:25:28,441 - Epoch 64 - Validation MAE: 0.14621, Total Loss: 1836.09436\n",
      "2024-10-10 22:27:28,029 - Epoch 65 - Validation MAE: 0.15276, Total Loss: 1744.60369\n",
      "2024-10-10 22:29:27,508 - Epoch 66 - Validation MAE: 0.14847, Total Loss: 1671.63632\n",
      "2024-10-10 22:31:26,932 - Epoch 67 - Validation MAE: 0.16252, Total Loss: 1599.66427\n",
      "2024-10-10 22:33:26,604 - Epoch 68 - Validation MAE: 0.14577, Total Loss: 1530.51355\n",
      "2024-10-10 22:35:25,652 - Epoch 69 - Validation MAE: 0.14801, Total Loss: 1468.62018\n",
      "2024-10-10 22:37:24,896 - Epoch 70 - Validation MAE: 0.14628, Total Loss: 1400.46358\n",
      "2024-10-10 22:39:24,010 - Epoch 71 - Validation MAE: 0.14572, Total Loss: 1322.46334\n",
      "2024-10-10 22:41:23,205 - Epoch 72 - Validation MAE: 0.14509, Total Loss: 1289.74790\n",
      "2024-10-10 22:43:22,696 - Epoch 73 - Validation MAE: 0.15176, Total Loss: 1244.39276\n",
      "2024-10-10 22:45:21,960 - Epoch 74 - Validation MAE: 0.14566, Total Loss: 1177.11919\n",
      "2024-10-10 22:47:21,434 - Epoch 75 - Validation MAE: 0.14510, Total Loss: 1151.97683\n",
      "2024-10-10 22:49:20,481 - Epoch 76 - Validation MAE: 0.14478, Total Loss: 1094.15626\n",
      "2024-10-10 22:51:19,969 - Epoch 77 - Validation MAE: 0.14523, Total Loss: 1066.35083\n",
      "2024-10-10 22:53:18,819 - Epoch 78 - Validation MAE: 0.14554, Total Loss: 1042.40249\n",
      "2024-10-10 22:55:18,120 - Epoch 79 - Validation MAE: 0.14689, Total Loss: 978.15534\n",
      "2024-10-10 22:57:17,051 - Epoch 80 - Validation MAE: 0.14439, Total Loss: 954.85817\n",
      "2024-10-10 22:59:16,439 - Epoch 81 - Validation MAE: 0.14699, Total Loss: 939.92340\n",
      "2024-10-10 23:01:15,955 - Epoch 82 - Validation MAE: 0.14373, Total Loss: 904.03838\n",
      "2024-10-10 23:03:15,330 - Epoch 83 - Validation MAE: 0.14479, Total Loss: 890.53555\n",
      "2024-10-10 23:05:14,266 - Epoch 84 - Validation MAE: 0.14408, Total Loss: 860.27037\n",
      "2024-10-10 23:07:13,530 - Epoch 85 - Validation MAE: 0.14395, Total Loss: 836.13578\n",
      "2024-10-10 23:09:12,739 - Epoch 86 - Validation MAE: 0.14429, Total Loss: 823.69476\n",
      "2024-10-10 23:11:12,233 - Epoch 87 - Validation MAE: 0.14618, Total Loss: 813.81080\n",
      "2024-10-10 23:13:12,010 - Epoch 88 - Validation MAE: 0.14397, Total Loss: 792.94661\n",
      "2024-10-10 23:15:11,528 - Epoch 89 - Validation MAE: 0.14374, Total Loss: 771.39401\n",
      "2024-10-10 23:17:10,401 - Epoch 90 - Validation MAE: 0.14441, Total Loss: 761.78252\n",
      "2024-10-10 23:19:09,200 - Epoch 91 - Validation MAE: 0.14426, Total Loss: 751.14277\n",
      "2024-10-10 23:21:07,871 - Epoch 92 - Validation MAE: 0.14442, Total Loss: 743.32531\n",
      "2024-10-10 23:21:09,182 - Early stopping at epoch 92. No improvement for 10 epochs.\n",
      "2024-10-10 23:21:09,184 - Finished training for model: CNNBiLSTMEmbeddingModel1e-3 with hyperparams: {'embedding_matrix': tensor([[ 0.6889,  0.2095, -0.7360,  ..., -0.3863,  0.1655, -0.2924],\n",
      "        [ 0.5227,  0.2222,  0.9701,  ...,  1.4729,  0.2297, -0.2529],\n",
      "        [ 0.0385, -0.0398,  0.0827,  ..., -0.3343,  0.0118,  0.0597],\n",
      "        ...,\n",
      "        [ 0.4483,  1.2691, -0.1862,  ...,  0.1636,  0.2891, -0.6319],\n",
      "        [-0.0924, -0.2186,  0.4416,  ...,  0.0976,  0.6912, -0.1121],\n",
      "        [-0.2589,  0.3339,  0.0924,  ..., -1.0857, -1.0157, -0.2296]]), 'n_cat_features': 3768, 'padding_idx': 0, 'freeze': False, 'lstm_hidden_size': 128, 'num_lstm_layers': 1, 'dropout': 0.3, 'batch_size': 128, 'epochs': 100}. Best Validation MAE: 0.14373\n",
      "2024-10-10 23:21:09,188 - \n",
      "Final results:\n",
      "\n",
      "2024-10-10 23:21:09,188 -                     model_name  \\\n",
      "0  CNNBiLSTMEmbeddingModel1e-3   \n",
      "\n",
      "                                         hyperparams   val_mae  \n",
      "0  {'embedding_matrix': [[tensor(0.6889), tensor(...  0.143732  \n"
     ]
    },
    {
     "name": "stdout",
     "output_type": "stream",
     "text": [
      "                    model_name  \\\n",
      "0  CNNBiLSTMEmbeddingModel1e-3   \n",
      "\n",
      "                                         hyperparams   val_mae  \n",
      "0  {'embedding_matrix': [[tensor(0.6889), tensor(...  0.143732  \n"
     ]
    }
   ],
   "source": [
    "from models import CNNBiLSTMEmbeddingModel\n",
    "\n",
    "models_to_test = [    \n",
    "    ('CNNBiLSTMEmbeddingModel1e-3', CNNBiLSTMEmbeddingModel, {\n",
    "        'embedding_matrix': embedding_matrix,\n",
    "        'n_cat_features': len(categorical_vectorizer.vocabulary_),  \n",
    "        'lstm_hidden_size': [128],  \n",
    "        'num_lstm_layers': [1],  #\n",
    "        'dropout': [0.3],  \n",
    "        'padding_idx': PAD_IX,  #\n",
    "        'freeze': False, \n",
    "        'batch_size': [128],  \n",
    "        'epochs': [100],  \n",
    "    })\n",
    "]\n",
    "\n",
    "pipeline = ModelPipeline(\n",
    "    models=models_to_test,\n",
    "    data_train=data_train,\n",
    "    data_val=data_val,\n",
    "    token_to_id=token_to_id,\n",
    "    categorical_vectorizer=categorical_vectorizer,\n",
    "    categorical_columns=categorical_columns,\n",
    "    UNK_IX=UNK_IX,\n",
    "    PAD_IX=PAD_IX,\n",
    "    log_dir='logs',\n",
    "    checkpoint_dir='checkpoints',\n",
    "    early_stopping_patience=10,\n",
    "    device=device,\n",
    "    epochs=200, \n",
    "    lr=1e-3\n",
    ")\n",
    "\n",
    "pipeline.train_and_evaluate()"
   ]
  }
 ],
 "metadata": {
  "kernelspec": {
   "display_name": "Python 3 (ipykernel)",
   "language": "python",
   "name": "python3"
  },
  "language_info": {
   "codemirror_mode": {
    "name": "ipython",
    "version": 3
   },
   "file_extension": ".py",
   "mimetype": "text/x-python",
   "name": "python",
   "nbconvert_exporter": "python",
   "pygments_lexer": "ipython3",
   "version": "3.11.7"
  }
 },
 "nbformat": 4,
 "nbformat_minor": 4
}
